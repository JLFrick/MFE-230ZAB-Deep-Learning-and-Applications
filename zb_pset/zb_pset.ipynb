{
 "cells": [
  {
   "cell_type": "code",
   "execution_count": 1,
   "metadata": {},
   "outputs": [],
   "source": [
    "import pandas as pd"
   ]
  },
  {
   "cell_type": "code",
   "execution_count": 13,
   "metadata": {},
   "outputs": [],
   "source": [
    "sp = pd.read_pickle('data/sp500.pkl')\n",
    "fomc = pd.read_pickle('data/fomc_statements.pkl')\n",
    "fomc = fomc.drop(columns='statement')\n",
    "fomc = fomc.rename(columns={'cleaned_statement':'statement'})"
   ]
  },
  {
   "cell_type": "code",
   "execution_count": 14,
   "metadata": {},
   "outputs": [
    {
     "data": {
      "text/html": [
       "<div>\n",
       "<style scoped>\n",
       "    .dataframe tbody tr th:only-of-type {\n",
       "        vertical-align: middle;\n",
       "    }\n",
       "\n",
       "    .dataframe tbody tr th {\n",
       "        vertical-align: top;\n",
       "    }\n",
       "\n",
       "    .dataframe thead th {\n",
       "        text-align: right;\n",
       "    }\n",
       "</style>\n",
       "<table border=\"1\" class=\"dataframe\">\n",
       "  <thead>\n",
       "    <tr style=\"text-align: right;\">\n",
       "      <th></th>\n",
       "      <th>date</th>\n",
       "      <th>statement</th>\n",
       "    </tr>\n",
       "  </thead>\n",
       "  <tbody>\n",
       "    <tr>\n",
       "      <th>0</th>\n",
       "      <td>1999-05-18</td>\n",
       "      <td>immediate release federal reserve released fol...</td>\n",
       "    </tr>\n",
       "    <tr>\n",
       "      <th>1</th>\n",
       "      <td>1999-06-30</td>\n",
       "      <td>immediate release federal open market committe...</td>\n",
       "    </tr>\n",
       "    <tr>\n",
       "      <th>2</th>\n",
       "      <td>1999-08-24</td>\n",
       "      <td>immediate release federal open market committe...</td>\n",
       "    </tr>\n",
       "    <tr>\n",
       "      <th>3</th>\n",
       "      <td>1999-10-05</td>\n",
       "      <td>immediate release federal open market committe...</td>\n",
       "    </tr>\n",
       "    <tr>\n",
       "      <th>4</th>\n",
       "      <td>1999-11-16</td>\n",
       "      <td>immediate release federal open market committe...</td>\n",
       "    </tr>\n",
       "    <tr>\n",
       "      <th>...</th>\n",
       "      <td>...</td>\n",
       "      <td>...</td>\n",
       "    </tr>\n",
       "    <tr>\n",
       "      <th>162</th>\n",
       "      <td>2023-09-20</td>\n",
       "      <td>recent indicators suggest economic activity ex...</td>\n",
       "    </tr>\n",
       "    <tr>\n",
       "      <th>163</th>\n",
       "      <td>2023-11-01</td>\n",
       "      <td>recent indicators suggest economic activity ex...</td>\n",
       "    </tr>\n",
       "    <tr>\n",
       "      <th>164</th>\n",
       "      <td>2023-12-13</td>\n",
       "      <td>recent indicators suggest growth economic acti...</td>\n",
       "    </tr>\n",
       "    <tr>\n",
       "      <th>165</th>\n",
       "      <td>2024-01-31</td>\n",
       "      <td>recent indicators suggest economic activity ex...</td>\n",
       "    </tr>\n",
       "    <tr>\n",
       "      <th>166</th>\n",
       "      <td>2024-03-20</td>\n",
       "      <td>recent indicators suggest economic activity ex...</td>\n",
       "    </tr>\n",
       "  </tbody>\n",
       "</table>\n",
       "<p>167 rows × 2 columns</p>\n",
       "</div>"
      ],
      "text/plain": [
       "          date                                          statement\n",
       "0   1999-05-18  immediate release federal reserve released fol...\n",
       "1   1999-06-30  immediate release federal open market committe...\n",
       "2   1999-08-24  immediate release federal open market committe...\n",
       "3   1999-10-05  immediate release federal open market committe...\n",
       "4   1999-11-16  immediate release federal open market committe...\n",
       "..         ...                                                ...\n",
       "162 2023-09-20  recent indicators suggest economic activity ex...\n",
       "163 2023-11-01  recent indicators suggest economic activity ex...\n",
       "164 2023-12-13  recent indicators suggest growth economic acti...\n",
       "165 2024-01-31  recent indicators suggest economic activity ex...\n",
       "166 2024-03-20  recent indicators suggest economic activity ex...\n",
       "\n",
       "[167 rows x 2 columns]"
      ]
     },
     "execution_count": 14,
     "metadata": {},
     "output_type": "execute_result"
    }
   ],
   "source": [
    "fomc"
   ]
  },
  {
   "cell_type": "code",
   "execution_count": 15,
   "metadata": {},
   "outputs": [],
   "source": [
    "# train set: 2000-2015\n",
    "train_df = fomc[(fomc['date'].dt.year >= 2000) & (fomc['date'].dt.year <= 2015)]\n",
    "\n",
    "# validation set: 2016-2018\n",
    "val_df = fomc[(fomc['date'].dt.year >= 2016) & (fomc['date'].dt.year <= 2018)]\n",
    "\n",
    "# test set: 2019+\n",
    "test_df = fomc[fomc['date'].dt.year >= 2019]"
   ]
  }
 ],
 "metadata": {
  "kernelspec": {
   "display_name": "HW2",
   "language": "python",
   "name": "python3"
  },
  "language_info": {
   "codemirror_mode": {
    "name": "ipython",
    "version": 3
   },
   "file_extension": ".py",
   "mimetype": "text/x-python",
   "name": "python",
   "nbconvert_exporter": "python",
   "pygments_lexer": "ipython3",
   "version": "3.12.1"
  }
 },
 "nbformat": 4,
 "nbformat_minor": 2
}
