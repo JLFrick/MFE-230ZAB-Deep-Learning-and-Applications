{
 "cells": [
  {
   "cell_type": "markdown",
   "metadata": {},
   "source": [
    "# Data"
   ]
  },
  {
   "cell_type": "code",
   "execution_count": 46,
   "metadata": {},
   "outputs": [],
   "source": [
    "import requests\n",
    "from bs4 import BeautifulSoup\n",
    "import pandas as pd\n",
    "import wrds"
   ]
  },
  {
   "cell_type": "markdown",
   "metadata": {},
   "source": [
    "### Get S&P Data"
   ]
  },
  {
   "cell_type": "code",
   "execution_count": 3,
   "metadata": {},
   "outputs": [
    {
     "name": "stdout",
     "output_type": "stream",
     "text": [
      "WRDS recommends setting up a .pgpass file.\n",
      "Created .pgpass file successfully.\n",
      "You can create this file yourself at any time with the create_pgpass_file() function.\n",
      "Loading library list...\n",
      "Done\n"
     ]
    }
   ],
   "source": [
    "conn=wrds.Connection()"
   ]
  },
  {
   "cell_type": "code",
   "execution_count": 32,
   "metadata": {},
   "outputs": [],
   "source": [
    "sp500 = conn.raw_sql(\"\"\"\n",
    "                        select a.*, b.date, b.ret\n",
    "                        from crsp.dsp500list as a,\n",
    "                        crsp.dsf as b\n",
    "                        where a.permno=b.permno\n",
    "                        and b.date >= a.start and b.date<= a.ending\n",
    "                        and b.date>='01/01/2000'\n",
    "                        and b.date<='12/31/2023'\n",
    "                        order by date;\n",
    "                        \"\"\", date_cols=['start', 'ending', 'date'])"
   ]
  },
  {
   "cell_type": "code",
   "execution_count": 38,
   "metadata": {},
   "outputs": [],
   "source": [
    "sp500 = sp500.drop(columns=['start', 'ending'])"
   ]
  },
  {
   "cell_type": "code",
   "execution_count": 39,
   "metadata": {},
   "outputs": [
    {
     "data": {
      "text/html": [
       "<div>\n",
       "<style scoped>\n",
       "    .dataframe tbody tr th:only-of-type {\n",
       "        vertical-align: middle;\n",
       "    }\n",
       "\n",
       "    .dataframe tbody tr th {\n",
       "        vertical-align: top;\n",
       "    }\n",
       "\n",
       "    .dataframe thead th {\n",
       "        text-align: right;\n",
       "    }\n",
       "</style>\n",
       "<table border=\"1\" class=\"dataframe\">\n",
       "  <thead>\n",
       "    <tr style=\"text-align: right;\">\n",
       "      <th></th>\n",
       "      <th>permno</th>\n",
       "      <th>date</th>\n",
       "      <th>ret</th>\n",
       "    </tr>\n",
       "  </thead>\n",
       "  <tbody>\n",
       "    <tr>\n",
       "      <th>0</th>\n",
       "      <td>64936</td>\n",
       "      <td>2000-01-03</td>\n",
       "      <td>-0.028662</td>\n",
       "    </tr>\n",
       "    <tr>\n",
       "      <th>1</th>\n",
       "      <td>24205</td>\n",
       "      <td>2000-01-03</td>\n",
       "      <td>-0.036496</td>\n",
       "    </tr>\n",
       "    <tr>\n",
       "      <th>2</th>\n",
       "      <td>60441</td>\n",
       "      <td>2000-01-03</td>\n",
       "      <td>-0.028926</td>\n",
       "    </tr>\n",
       "    <tr>\n",
       "      <th>3</th>\n",
       "      <td>45751</td>\n",
       "      <td>2000-01-03</td>\n",
       "      <td>-0.011757</td>\n",
       "    </tr>\n",
       "    <tr>\n",
       "      <th>4</th>\n",
       "      <td>76887</td>\n",
       "      <td>2000-01-03</td>\n",
       "      <td>-0.042553</td>\n",
       "    </tr>\n",
       "    <tr>\n",
       "      <th>...</th>\n",
       "      <td>...</td>\n",
       "      <td>...</td>\n",
       "      <td>...</td>\n",
       "    </tr>\n",
       "    <tr>\n",
       "      <th>28546</th>\n",
       "      <td>87445</td>\n",
       "      <td>2023-12-29</td>\n",
       "      <td>0.004683</td>\n",
       "    </tr>\n",
       "    <tr>\n",
       "      <th>28547</th>\n",
       "      <td>21792</td>\n",
       "      <td>2023-12-29</td>\n",
       "      <td>0.000350</td>\n",
       "    </tr>\n",
       "    <tr>\n",
       "      <th>28548</th>\n",
       "      <td>13356</td>\n",
       "      <td>2023-12-29</td>\n",
       "      <td>0.002258</td>\n",
       "    </tr>\n",
       "    <tr>\n",
       "      <th>28549</th>\n",
       "      <td>58819</td>\n",
       "      <td>2023-12-29</td>\n",
       "      <td>-0.000390</td>\n",
       "    </tr>\n",
       "    <tr>\n",
       "      <th>28550</th>\n",
       "      <td>52476</td>\n",
       "      <td>2023-12-29</td>\n",
       "      <td>-0.009295</td>\n",
       "    </tr>\n",
       "  </tbody>\n",
       "</table>\n",
       "<p>3028551 rows × 3 columns</p>\n",
       "</div>"
      ],
      "text/plain": [
       "       permno       date       ret\n",
       "0       64936 2000-01-03 -0.028662\n",
       "1       24205 2000-01-03 -0.036496\n",
       "2       60441 2000-01-03 -0.028926\n",
       "3       45751 2000-01-03 -0.011757\n",
       "4       76887 2000-01-03 -0.042553\n",
       "...       ...        ...       ...\n",
       "28546   87445 2023-12-29  0.004683\n",
       "28547   21792 2023-12-29  0.000350\n",
       "28548   13356 2023-12-29  0.002258\n",
       "28549   58819 2023-12-29 -0.000390\n",
       "28550   52476 2023-12-29 -0.009295\n",
       "\n",
       "[3028551 rows x 3 columns]"
      ]
     },
     "execution_count": 39,
     "metadata": {},
     "output_type": "execute_result"
    }
   ],
   "source": [
    "sp500"
   ]
  },
  {
   "cell_type": "code",
   "execution_count": 40,
   "metadata": {},
   "outputs": [],
   "source": [
    "sp500.to_pickle('data/sp500.pkl')"
   ]
  },
  {
   "cell_type": "code",
   "execution_count": 41,
   "metadata": {},
   "outputs": [
    {
     "data": {
      "text/plain": [
       "permno      0\n",
       "date        0\n",
       "ret       101\n",
       "dtype: int64"
      ]
     },
     "execution_count": 41,
     "metadata": {},
     "output_type": "execute_result"
    }
   ],
   "source": [
    "sp500.isna().sum()"
   ]
  },
  {
   "cell_type": "code",
   "execution_count": 44,
   "metadata": {},
   "outputs": [
    {
     "data": {
      "text/plain": [
       "98"
      ]
     },
     "execution_count": 44,
     "metadata": {},
     "output_type": "execute_result"
    }
   ],
   "source": [
    "(sp500[sp500['ret'].isna()])['permno'].nunique()"
   ]
  },
  {
   "cell_type": "markdown",
   "metadata": {},
   "source": [
    "### Process Transcript Data"
   ]
  },
  {
   "cell_type": "markdown",
   "metadata": {},
   "source": [
    "##### Scrape Relevant Texts from URLs"
   ]
  },
  {
   "cell_type": "code",
   "execution_count": 55,
   "metadata": {},
   "outputs": [
    {
     "data": {
      "text/html": [
       "<div>\n",
       "<style scoped>\n",
       "    .dataframe tbody tr th:only-of-type {\n",
       "        vertical-align: middle;\n",
       "    }\n",
       "\n",
       "    .dataframe tbody tr th {\n",
       "        vertical-align: top;\n",
       "    }\n",
       "\n",
       "    .dataframe thead th {\n",
       "        text-align: right;\n",
       "    }\n",
       "</style>\n",
       "<table border=\"1\" class=\"dataframe\">\n",
       "  <thead>\n",
       "    <tr style=\"text-align: right;\">\n",
       "      <th></th>\n",
       "      <th>date</th>\n",
       "      <th>url</th>\n",
       "    </tr>\n",
       "  </thead>\n",
       "  <tbody>\n",
       "    <tr>\n",
       "      <th>0</th>\n",
       "      <td>1999-05-18</td>\n",
       "      <td>https://www.federalreserve.gov/boarddocs/press...</td>\n",
       "    </tr>\n",
       "    <tr>\n",
       "      <th>1</th>\n",
       "      <td>1999-06-30</td>\n",
       "      <td>https://www.federalreserve.gov/boarddocs/press...</td>\n",
       "    </tr>\n",
       "    <tr>\n",
       "      <th>2</th>\n",
       "      <td>1999-08-24</td>\n",
       "      <td>https://www.federalreserve.gov/boarddocs/press...</td>\n",
       "    </tr>\n",
       "    <tr>\n",
       "      <th>3</th>\n",
       "      <td>1999-10-05</td>\n",
       "      <td>https://www.federalreserve.gov/boarddocs/press...</td>\n",
       "    </tr>\n",
       "    <tr>\n",
       "      <th>4</th>\n",
       "      <td>1999-11-16</td>\n",
       "      <td>https://www.federalreserve.gov/boarddocs/press...</td>\n",
       "    </tr>\n",
       "    <tr>\n",
       "      <th>...</th>\n",
       "      <td>...</td>\n",
       "      <td>...</td>\n",
       "    </tr>\n",
       "    <tr>\n",
       "      <th>89</th>\n",
       "      <td>2010-08-10</td>\n",
       "      <td>https://www.federalreserve.gov/newsevents/pres...</td>\n",
       "    </tr>\n",
       "    <tr>\n",
       "      <th>90</th>\n",
       "      <td>2010-09-21</td>\n",
       "      <td>https://www.federalreserve.gov/newsevents/pres...</td>\n",
       "    </tr>\n",
       "    <tr>\n",
       "      <th>91</th>\n",
       "      <td>2010-11-03</td>\n",
       "      <td>https://www.federalreserve.gov/newsevents/pres...</td>\n",
       "    </tr>\n",
       "    <tr>\n",
       "      <th>92</th>\n",
       "      <td>2010-12-14</td>\n",
       "      <td>https://www.federalreserve.gov/newsevents/pres...</td>\n",
       "    </tr>\n",
       "    <tr>\n",
       "      <th>93</th>\n",
       "      <td>2011-01-26</td>\n",
       "      <td>https://www.federalreserve.gov/newsevents/pres...</td>\n",
       "    </tr>\n",
       "  </tbody>\n",
       "</table>\n",
       "<p>94 rows × 2 columns</p>\n",
       "</div>"
      ],
      "text/plain": [
       "         date                                                url\n",
       "0  1999-05-18  https://www.federalreserve.gov/boarddocs/press...\n",
       "1  1999-06-30  https://www.federalreserve.gov/boarddocs/press...\n",
       "2  1999-08-24  https://www.federalreserve.gov/boarddocs/press...\n",
       "3  1999-10-05  https://www.federalreserve.gov/boarddocs/press...\n",
       "4  1999-11-16  https://www.federalreserve.gov/boarddocs/press...\n",
       "..        ...                                                ...\n",
       "89 2010-08-10  https://www.federalreserve.gov/newsevents/pres...\n",
       "90 2010-09-21  https://www.federalreserve.gov/newsevents/pres...\n",
       "91 2010-11-03  https://www.federalreserve.gov/newsevents/pres...\n",
       "92 2010-12-14  https://www.federalreserve.gov/newsevents/pres...\n",
       "93 2011-01-26  https://www.federalreserve.gov/newsevents/pres...\n",
       "\n",
       "[94 rows x 2 columns]"
      ]
     },
     "execution_count": 55,
     "metadata": {},
     "output_type": "execute_result"
    }
   ],
   "source": [
    "fomc_urls = pd.read_csv('data/fomc statement times pre 2011 with urls.csv')\n",
    "fomc_urls = fomc_urls.drop(columns=['Statement Time', 'Press Conference'])\n",
    "fomc_urls = fomc_urls.rename(columns={'Statement Date': 'date', 'URL':'url'})\n",
    "fomc_urls['date'] = pd.to_datetime(fomc_urls['date'])\n",
    "fomc_urls"
   ]
  },
  {
   "cell_type": "code",
   "execution_count": 98,
   "metadata": {},
   "outputs": [],
   "source": [
    "fomc_statements = []\n",
    "\n",
    "for index, row in fomc_urls.iterrows():\n",
    "    date = row['date']\n",
    "    url = row['url']\n",
    "    \n",
    "    response = requests.get(url)\n",
    "    \n",
    "    # request was successful\n",
    "    if response.status_code == 200:\n",
    "        soup = BeautifulSoup(response.content, 'html.parser')\n",
    "        statement_text = soup.get_text(separator='\\n', strip=True)\n",
    "                \n",
    "        content_div = soup.find('div', class_='col-xs-12 col-sm-8 col-md-8')\n",
    "\n",
    "        # dates in range: 01-31-2006 - 01-26-2011 enter here and store relevant text in col-xs-12 col-sm-8 col-md-8\n",
    "        if content_div:\n",
    "            paragraphs = content_div.find_all('p')\n",
    "            statement_text = '\\n'.join([p.get_text(strip=True) for p in paragraphs])\n",
    "        \n",
    "        # dates in range: 05-18-1999 - 12-13-2005 enter here and store relevant text in <p>\n",
    "        else:\n",
    "            statement_text= soup.find('p').get_text(separator='\\n', strip=True)\n",
    "            \n",
    "        # add statment\n",
    "        fomc_statements.append({'date': date, 'statement': statement_text})\n",
    "    else:\n",
    "        print(f\"Failed to retrieve URL at index {index}: {url}\")"
   ]
  },
  {
   "cell_type": "code",
   "execution_count": 95,
   "metadata": {},
   "outputs": [
    {
     "name": "stdout",
     "output_type": "stream",
     "text": [
      "Statements Format 1 (05-18-1999 - 12-13-2005):\n"
     ]
    },
    {
     "data": {
      "text/plain": [
       "\"For immediate release\\nThe Federal Reserve released the following statement after today's Federal Open Market Committee meeting:\\nWhile the FOMC did not take action today to alter the stance of monetary policy, the Committee was concerned about the potential for a buildup of inflationary imbalances that could undermine the favorable performance of the economy and therefore adopted a directive that is tilted toward the possibility of a  firming in the stance of monetary policy.  Trend increases in costs and core prices have generally remained quite subdued.  But domestic financial markets have recovered and foreign economic prospects have improved since the easing of monetary policy last fall.  Against the background of already-tight domestic labor markets and ongoing strength in demand in excess of productivity gains, the Committee recognizes the need to be alert to developments over coming months that might indicate that financial conditions may no longer be consistent with containing inflation.\\n1999 Monetary policy\\nHome\\n|\\nNews and events\\nAccessibility\\nLast update: May 18, 1999, 2:15 PM\""
      ]
     },
     "metadata": {},
     "output_type": "display_data"
    },
    {
     "name": "stdout",
     "output_type": "stream",
     "text": [
      "Statements Format 2 (01-31-2006 - 01-26-2011):\n"
     ]
    },
    {
     "data": {
      "text/plain": [
       "'Information received since the Federal Open Market Committee met in December confirms that the economic recovery is continuing, though at a rate that has been insufficient to bring about a significant improvement in labor market conditions. Growth in household spending picked up late last year, but remains constrained by high unemployment, modest income growth, lower housing wealth, and tight credit. Business spending on equipment and software is rising, while investment in nonresidential structures is still weak. Employers remain reluctant to add to payrolls. The housing sector continues to be depressed. Although commodity prices have risen, longer-term inflation expectations have remained stable, and measures of underlying inflation have been trending downward.\\nConsistent with its statutory mandate, the Committee seeks to foster maximum employment and price stability. Currently, the unemployment rate is elevated, and measures of underlying inflation are somewhat low, relative to levels that the Committee judges to be consistent, over the longer run, with its dual mandate. Although the Committee anticipates a gradual return to higher levels of resource utilization in a context of price stability, progress toward its objectives has been disappointingly slow.\\nTo promote a stronger pace of economic recovery and to help ensure that inflation, over time, is at levels consistent with its mandate, the Committee decided today to continue expanding its holdings of securities as announced in November. In particular, the Committee is maintaining its existing policy of reinvesting principal payments from its securities holdings and intends to purchase $600 billion of longer-term Treasury securities by the end of the second quarter of 2011. The Committee will regularly review the pace of its securities purchases and the overall size of the asset-purchase program in light of incoming information and will adjust the program as needed to best foster maximum employment and price stability.\\nThe Committee will maintain the target range for the federal funds rate at 0 to 1/4 percent and continues to anticipate that economic conditions, including low rates of resource utilization, subdued inflation trends, and stable inflation expectations, are likely to warrant exceptionally low levels for the federal funds rate for an extended period.\\nThe Committee will continue to monitor the economic outlook and financial developments and will employ its policy tools as necessary to support the economic recovery and to help ensure that inflation, over time, is at levels consistent with its mandate.\\nVoting for the FOMC monetary policy action were: Ben S. Bernanke, Chairman; William C. Dudley, Vice Chairman; Elizabeth A. Duke; Charles L. Evans; Richard W. Fisher; Narayana Kocherlakota; Charles I. Plosser; Sarah Bloom Raskin; Daniel K. Tarullo; Kevin M. Warsh; and Janet L. Yellen.'"
      ]
     },
     "metadata": {},
     "output_type": "display_data"
    }
   ],
   "source": [
    "fomc_statements = pd.DataFrame(fomc_statements)\n",
    "\n",
    "print(\"Statements Format 1 (05-18-1999 - 12-13-2005):\")\n",
    "display(fomc_statements['statement'].iloc[0])\n",
    "\n",
    "print(\"Statements Format 2 (01-31-2006 - 01-26-2011):\")\n",
    "display(fomc_statements['statement'].iloc[-1])"
   ]
  },
  {
   "cell_type": "markdown",
   "metadata": {},
   "source": []
  }
 ],
 "metadata": {
  "kernelspec": {
   "display_name": "HW2",
   "language": "python",
   "name": "python3"
  },
  "language_info": {
   "codemirror_mode": {
    "name": "ipython",
    "version": 3
   },
   "file_extension": ".py",
   "mimetype": "text/x-python",
   "name": "python",
   "nbconvert_exporter": "python",
   "pygments_lexer": "ipython3",
   "version": "3.12.1"
  }
 },
 "nbformat": 4,
 "nbformat_minor": 2
}
