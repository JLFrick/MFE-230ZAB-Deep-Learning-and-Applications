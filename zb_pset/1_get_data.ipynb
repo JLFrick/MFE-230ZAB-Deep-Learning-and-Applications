{
 "cells": [
  {
   "cell_type": "markdown",
   "metadata": {},
   "source": [
    "# Data"
   ]
  },
  {
   "cell_type": "markdown",
   "metadata": {},
   "source": [
    "1. Gets necessary data from CRSP for S&P constituents\n",
    "2. Transforms PDFs of FOMC statements to URLs (so that all FOMCs are now in a url)\n",
    "3. Scrapes necessary text from all URLs\n",
    "4. Removes noise from FOMC statements"
   ]
  },
  {
   "cell_type": "code",
   "execution_count": 1,
   "metadata": {},
   "outputs": [],
   "source": [
    "from bs4 import BeautifulSoup\n",
    "import requests\n",
    "import pandas as pd\n",
    "import wrds\n",
    "\n",
    "import nltk\n",
    "from nltk.tokenize import word_tokenize\n",
    "from nltk.corpus import stopwords"
   ]
  },
  {
   "cell_type": "code",
   "execution_count": 2,
   "metadata": {},
   "outputs": [
    {
     "name": "stderr",
     "output_type": "stream",
     "text": [
      "[nltk_data] Downloading package punkt to\n",
      "[nltk_data]     /Users/nathanueda/nltk_data...\n",
      "[nltk_data]   Package punkt is already up-to-date!\n"
     ]
    },
    {
     "data": {
      "text/plain": [
       "True"
      ]
     },
     "execution_count": 2,
     "metadata": {},
     "output_type": "execute_result"
    }
   ],
   "source": [
    "nltk.download('punkt')"
   ]
  },
  {
   "cell_type": "markdown",
   "metadata": {},
   "source": [
    "### Step 1: Get S&P Data"
   ]
  },
  {
   "cell_type": "code",
   "execution_count": 30,
   "metadata": {},
   "outputs": [
    {
     "name": "stdout",
     "output_type": "stream",
     "text": [
      "WRDS recommends setting up a .pgpass file.\n",
      "Created .pgpass file successfully.\n",
      "You can create this file yourself at any time with the create_pgpass_file() function.\n",
      "Loading library list...\n",
      "Done\n"
     ]
    }
   ],
   "source": [
    "conn=wrds.Connection()"
   ]
  },
  {
   "cell_type": "code",
   "execution_count": 31,
   "metadata": {},
   "outputs": [],
   "source": [
    "sp500 = conn.raw_sql(\"\"\"\n",
    "                        select a.*, b.date, b.ret\n",
    "                        from crsp.dsp500list as a,\n",
    "                        crsp.dsf as b\n",
    "                        where a.permno=b.permno\n",
    "                        and b.date >= a.start and b.date<= a.ending\n",
    "                        and b.date>='01/01/2000'\n",
    "                        and b.date<='12/31/2023'\n",
    "                        order by date;\n",
    "                        \"\"\", date_cols=['start', 'ending', 'date'])"
   ]
  },
  {
   "cell_type": "code",
   "execution_count": 32,
   "metadata": {},
   "outputs": [],
   "source": [
    "sp500 = sp500.drop(columns=['start', 'ending'])"
   ]
  },
  {
   "cell_type": "code",
   "execution_count": 33,
   "metadata": {},
   "outputs": [
    {
     "data": {
      "text/html": [
       "<div>\n",
       "<style scoped>\n",
       "    .dataframe tbody tr th:only-of-type {\n",
       "        vertical-align: middle;\n",
       "    }\n",
       "\n",
       "    .dataframe tbody tr th {\n",
       "        vertical-align: top;\n",
       "    }\n",
       "\n",
       "    .dataframe thead th {\n",
       "        text-align: right;\n",
       "    }\n",
       "</style>\n",
       "<table border=\"1\" class=\"dataframe\">\n",
       "  <thead>\n",
       "    <tr style=\"text-align: right;\">\n",
       "      <th></th>\n",
       "      <th>permno</th>\n",
       "      <th>date</th>\n",
       "      <th>ret</th>\n",
       "    </tr>\n",
       "  </thead>\n",
       "  <tbody>\n",
       "    <tr>\n",
       "      <th>0</th>\n",
       "      <td>64936</td>\n",
       "      <td>2000-01-03</td>\n",
       "      <td>-0.028662</td>\n",
       "    </tr>\n",
       "    <tr>\n",
       "      <th>1</th>\n",
       "      <td>24205</td>\n",
       "      <td>2000-01-03</td>\n",
       "      <td>-0.036496</td>\n",
       "    </tr>\n",
       "    <tr>\n",
       "      <th>2</th>\n",
       "      <td>60441</td>\n",
       "      <td>2000-01-03</td>\n",
       "      <td>-0.028926</td>\n",
       "    </tr>\n",
       "    <tr>\n",
       "      <th>3</th>\n",
       "      <td>45751</td>\n",
       "      <td>2000-01-03</td>\n",
       "      <td>-0.011757</td>\n",
       "    </tr>\n",
       "    <tr>\n",
       "      <th>4</th>\n",
       "      <td>76887</td>\n",
       "      <td>2000-01-03</td>\n",
       "      <td>-0.042553</td>\n",
       "    </tr>\n",
       "    <tr>\n",
       "      <th>...</th>\n",
       "      <td>...</td>\n",
       "      <td>...</td>\n",
       "      <td>...</td>\n",
       "    </tr>\n",
       "    <tr>\n",
       "      <th>28546</th>\n",
       "      <td>87445</td>\n",
       "      <td>2023-12-29</td>\n",
       "      <td>0.004683</td>\n",
       "    </tr>\n",
       "    <tr>\n",
       "      <th>28547</th>\n",
       "      <td>21792</td>\n",
       "      <td>2023-12-29</td>\n",
       "      <td>0.000350</td>\n",
       "    </tr>\n",
       "    <tr>\n",
       "      <th>28548</th>\n",
       "      <td>13356</td>\n",
       "      <td>2023-12-29</td>\n",
       "      <td>0.002258</td>\n",
       "    </tr>\n",
       "    <tr>\n",
       "      <th>28549</th>\n",
       "      <td>58819</td>\n",
       "      <td>2023-12-29</td>\n",
       "      <td>-0.000390</td>\n",
       "    </tr>\n",
       "    <tr>\n",
       "      <th>28550</th>\n",
       "      <td>52476</td>\n",
       "      <td>2023-12-29</td>\n",
       "      <td>-0.009295</td>\n",
       "    </tr>\n",
       "  </tbody>\n",
       "</table>\n",
       "<p>3028551 rows × 3 columns</p>\n",
       "</div>"
      ],
      "text/plain": [
       "       permno       date       ret\n",
       "0       64936 2000-01-03 -0.028662\n",
       "1       24205 2000-01-03 -0.036496\n",
       "2       60441 2000-01-03 -0.028926\n",
       "3       45751 2000-01-03 -0.011757\n",
       "4       76887 2000-01-03 -0.042553\n",
       "...       ...        ...       ...\n",
       "28546   87445 2023-12-29  0.004683\n",
       "28547   21792 2023-12-29  0.000350\n",
       "28548   13356 2023-12-29  0.002258\n",
       "28549   58819 2023-12-29 -0.000390\n",
       "28550   52476 2023-12-29 -0.009295\n",
       "\n",
       "[3028551 rows x 3 columns]"
      ]
     },
     "execution_count": 33,
     "metadata": {},
     "output_type": "execute_result"
    }
   ],
   "source": [
    "sp500"
   ]
  },
  {
   "cell_type": "code",
   "execution_count": 34,
   "metadata": {},
   "outputs": [],
   "source": [
    "sp500.to_pickle('data/sp500.pkl')"
   ]
  },
  {
   "cell_type": "code",
   "execution_count": 35,
   "metadata": {},
   "outputs": [
    {
     "data": {
      "text/plain": [
       "permno      0\n",
       "date        0\n",
       "ret       101\n",
       "dtype: int64"
      ]
     },
     "execution_count": 35,
     "metadata": {},
     "output_type": "execute_result"
    }
   ],
   "source": [
    "sp500.isna().sum()"
   ]
  },
  {
   "cell_type": "code",
   "execution_count": 36,
   "metadata": {},
   "outputs": [
    {
     "data": {
      "text/plain": [
       "98"
      ]
     },
     "execution_count": 36,
     "metadata": {},
     "output_type": "execute_result"
    }
   ],
   "source": [
    "(sp500[sp500['ret'].isna()])['permno'].nunique()"
   ]
  },
  {
   "cell_type": "markdown",
   "metadata": {},
   "source": [
    "### Step 2: Scrape Relevant Text from URLs"
   ]
  },
  {
   "cell_type": "code",
   "execution_count": 69,
   "metadata": {},
   "outputs": [
    {
     "data": {
      "text/html": [
       "<div>\n",
       "<style scoped>\n",
       "    .dataframe tbody tr th:only-of-type {\n",
       "        vertical-align: middle;\n",
       "    }\n",
       "\n",
       "    .dataframe tbody tr th {\n",
       "        vertical-align: top;\n",
       "    }\n",
       "\n",
       "    .dataframe thead th {\n",
       "        text-align: right;\n",
       "    }\n",
       "</style>\n",
       "<table border=\"1\" class=\"dataframe\">\n",
       "  <thead>\n",
       "    <tr style=\"text-align: right;\">\n",
       "      <th></th>\n",
       "      <th>date</th>\n",
       "      <th>url</th>\n",
       "    </tr>\n",
       "  </thead>\n",
       "  <tbody>\n",
       "    <tr>\n",
       "      <th>0</th>\n",
       "      <td>1999-05-18</td>\n",
       "      <td>https://www.federalreserve.gov/boarddocs/press...</td>\n",
       "    </tr>\n",
       "    <tr>\n",
       "      <th>1</th>\n",
       "      <td>1999-06-30</td>\n",
       "      <td>https://www.federalreserve.gov/boarddocs/press...</td>\n",
       "    </tr>\n",
       "    <tr>\n",
       "      <th>2</th>\n",
       "      <td>1999-08-24</td>\n",
       "      <td>https://www.federalreserve.gov/boarddocs/press...</td>\n",
       "    </tr>\n",
       "    <tr>\n",
       "      <th>3</th>\n",
       "      <td>1999-10-05</td>\n",
       "      <td>https://www.federalreserve.gov/boarddocs/press...</td>\n",
       "    </tr>\n",
       "    <tr>\n",
       "      <th>4</th>\n",
       "      <td>1999-11-16</td>\n",
       "      <td>https://www.federalreserve.gov/boarddocs/press...</td>\n",
       "    </tr>\n",
       "    <tr>\n",
       "      <th>...</th>\n",
       "      <td>...</td>\n",
       "      <td>...</td>\n",
       "    </tr>\n",
       "    <tr>\n",
       "      <th>162</th>\n",
       "      <td>2023-09-20</td>\n",
       "      <td>https://www.federalreserve.gov/newsevents/pres...</td>\n",
       "    </tr>\n",
       "    <tr>\n",
       "      <th>163</th>\n",
       "      <td>2023-11-01</td>\n",
       "      <td>https://www.federalreserve.gov/newsevents/pres...</td>\n",
       "    </tr>\n",
       "    <tr>\n",
       "      <th>164</th>\n",
       "      <td>2023-12-13</td>\n",
       "      <td>https://www.federalreserve.gov/newsevents/pres...</td>\n",
       "    </tr>\n",
       "    <tr>\n",
       "      <th>165</th>\n",
       "      <td>2024-01-31</td>\n",
       "      <td>https://www.federalreserve.gov/newsevents/pres...</td>\n",
       "    </tr>\n",
       "    <tr>\n",
       "      <th>166</th>\n",
       "      <td>2024-03-20</td>\n",
       "      <td>https://www.federalreserve.gov/newsevents/pres...</td>\n",
       "    </tr>\n",
       "  </tbody>\n",
       "</table>\n",
       "<p>167 rows × 2 columns</p>\n",
       "</div>"
      ],
      "text/plain": [
       "          date                                                url\n",
       "0   1999-05-18  https://www.federalreserve.gov/boarddocs/press...\n",
       "1   1999-06-30  https://www.federalreserve.gov/boarddocs/press...\n",
       "2   1999-08-24  https://www.federalreserve.gov/boarddocs/press...\n",
       "3   1999-10-05  https://www.federalreserve.gov/boarddocs/press...\n",
       "4   1999-11-16  https://www.federalreserve.gov/boarddocs/press...\n",
       "..         ...                                                ...\n",
       "162 2023-09-20  https://www.federalreserve.gov/newsevents/pres...\n",
       "163 2023-11-01  https://www.federalreserve.gov/newsevents/pres...\n",
       "164 2023-12-13  https://www.federalreserve.gov/newsevents/pres...\n",
       "165 2024-01-31  https://www.federalreserve.gov/newsevents/pres...\n",
       "166 2024-03-20  https://www.federalreserve.gov/newsevents/pres...\n",
       "\n",
       "[167 rows x 2 columns]"
      ]
     },
     "execution_count": 69,
     "metadata": {},
     "output_type": "execute_result"
    }
   ],
   "source": [
    "# fomc_urls = pd.read_csv('data/fomc statement times pre 2011 with urls.csv')\n",
    "\n",
    "# has original urls and urls from pdfs\n",
    "fomc_urls = pd.read_csv('data/all_fomc_urls.csv')\n",
    "# fomc_urls = fomc_urls.drop(columns=['Statement Time', 'Press Conference'])\n",
    "fomc_urls = fomc_urls.rename(columns={'Statement Date': 'date', 'URL':'url'})\n",
    "fomc_urls['date'] = pd.to_datetime(fomc_urls['date'])\n",
    "fomc_urls"
   ]
  },
  {
   "cell_type": "code",
   "execution_count": 70,
   "metadata": {},
   "outputs": [],
   "source": [
    "fomc_statements = []\n",
    "\n",
    "for index, row in fomc_urls.iterrows():\n",
    "    date = row['date']\n",
    "    url = row['url']\n",
    "    \n",
    "    response = requests.get(url)\n",
    "    \n",
    "    # request was successful\n",
    "    if response.status_code == 200:\n",
    "        soup = BeautifulSoup(response.content, 'html.parser')\n",
    "        statement_text = soup.get_text(separator='\\n', strip=True)\n",
    "                \n",
    "        content_div = soup.find('div', class_='col-xs-12 col-sm-8 col-md-8')\n",
    "\n",
    "        # dates in range: 01-31-2006 - 01-26-2011 enter here and store relevant text in col-xs-12 col-sm-8 col-md-8\n",
    "        # converted pdfs to urls as well which follow this format\n",
    "        if content_div:\n",
    "            paragraphs = content_div.find_all('p')\n",
    "            statement_text = '\\n'.join([p.get_text(strip=True) for p in paragraphs])\n",
    "        \n",
    "        # dates in range: 05-18-1999 - 12-13-2005 enter here and store relevant text in <p>\n",
    "        else:\n",
    "            statement_text= soup.find('p').get_text(separator='\\n', strip=True)\n",
    "            \n",
    "        # add statment\n",
    "        fomc_statements.append({'date': date, 'statement': statement_text})\n",
    "    else:\n",
    "        print(f\"Failed to retrieve URL at index {index}: {url}\")"
   ]
  },
  {
   "cell_type": "code",
   "execution_count": 71,
   "metadata": {},
   "outputs": [
    {
     "name": "stdout",
     "output_type": "stream",
     "text": [
      "Statements Format 1 (05-18-1999 - 12-13-2005):\n"
     ]
    },
    {
     "data": {
      "text/plain": [
       "\"For immediate release\\nThe Federal Reserve released the following statement after today's Federal Open Market Committee meeting:\\nWhile the FOMC did not take action today to alter the stance of monetary policy, the Committee was concerned about the potential for a buildup of inflationary imbalances that could undermine the favorable performance of the economy and therefore adopted a directive that is tilted toward the possibility of a  firming in the stance of monetary policy.  Trend increases in costs and core prices have generally remained quite subdued.  But domestic financial markets have recovered and foreign economic prospects have improved since the easing of monetary policy last fall.  Against the background of already-tight domestic labor markets and ongoing strength in demand in excess of productivity gains, the Committee recognizes the need to be alert to developments over coming months that might indicate that financial conditions may no longer be consistent with containing inflation.\\n1999 Monetary policy\\nHome\\n|\\nNews and events\\nAccessibility\\nLast update: May 18, 1999, 2:15 PM\""
      ]
     },
     "metadata": {},
     "output_type": "display_data"
    },
    {
     "name": "stdout",
     "output_type": "stream",
     "text": [
      "Statements Format 2 (01-31-2006 - 01-26-2011) and onwards:\n"
     ]
    },
    {
     "data": {
      "text/plain": [
       "\"Recent indicators suggest that economic activity has been expanding at a solid pace. Job gains have remained strong, and the unemployment rate has remained low. Inflation has eased over the past year but remains elevated.\\nThe Committee seeks to achieve maximum employment and inflation at the rate of 2 percent over the longer run. The Committee judges that the risks to achieving its employment and inflation goals are moving into better balance. The economic outlook is uncertain, and the Committee remains highly attentive to inflation risks.\\nIn support of its goals, the Committee decided to maintain the target range for the federal funds rate at 5-1/4 to 5-1/2 percent. In considering any adjustments to the target range for the federal funds rate, the Committee will carefully assess incoming data, the evolving outlook, and the balance of risks. The Committee does not expect it will be appropriate to reduce the target range until it has gained greater confidence that inflation is moving sustainably toward 2 percent. In addition, the Committee will continue reducing its holdings of Treasury securities and agency debt and agency mortgage-backed securities, as described in its previously announced plans. The Committee is strongly committed to returning inflation to its 2 percent objective.\\nIn assessing the appropriate stance of monetary policy, the Committee will continue to monitor the implications of incoming information for the economic outlook. The Committee would be prepared to adjust the stance of monetary policy as appropriate if risks emerge that could impede the attainment of the Committee's goals. The Committee's assessments will take into account a wide range of information, including readings on labor market conditions, inflation pressures and inflation expectations, and financial and international developments.\\nVoting for the monetary policy action were Jerome H. Powell, Chair; John C. Williams, Vice Chair; Thomas I. Barkin; Michael S. Barr; Raphael W. Bostic; Michelle W. Bowman; Lisa D. Cook; Mary C. Daly; Philip N. Jefferson; Adriana D. Kugler; Loretta J. Mester; and Christopher J. Waller.\\nFor media inquiries, please email[email\\xa0protected]or call 202-452-2955.\\nImplementation Note issued March 20, 2024\""
      ]
     },
     "metadata": {},
     "output_type": "display_data"
    }
   ],
   "source": [
    "fomc_statements = pd.DataFrame(fomc_statements)\n",
    "\n",
    "print(\"Statements Format 1 (05-18-1999 - 12-13-2005):\")\n",
    "display(fomc_statements['statement'].iloc[0])\n",
    "\n",
    "print(\"Statements Format 2 (01-31-2006 - 01-26-2011) and onwards:\")\n",
    "\n",
    "display(fomc_statements['statement'].iloc[-1])"
   ]
  },
  {
   "cell_type": "markdown",
   "metadata": {},
   "source": [
    "### Step 3: Remove Noise in FOMC Statements"
   ]
  },
  {
   "cell_type": "code",
   "execution_count": 88,
   "metadata": {},
   "outputs": [],
   "source": [
    "def remove_noise(text):\n",
    "\n",
    "    text = text.lower()\n",
    "\n",
    "    tokens = word_tokenize(text)\n",
    "\n",
    "    tokens = [word for word in tokens if word.isalpha() and word not in stopwords.words('english')]\n",
    "\n",
    "    cleaned_text = ' '.join(tokens)\n",
    "\n",
    "    return cleaned_text\n",
    "\n",
    "fomc_statements['cleaned_statement'] = fomc_statements['statement'].apply(remove_noise)\n"
   ]
  },
  {
   "cell_type": "code",
   "execution_count": 89,
   "metadata": {},
   "outputs": [],
   "source": [
    "fomc_statements.to_pickle('data/fomc_statements.pkl')"
   ]
  }
 ],
 "metadata": {
  "kernelspec": {
   "display_name": "HW2",
   "language": "python",
   "name": "python3"
  },
  "language_info": {
   "codemirror_mode": {
    "name": "ipython",
    "version": 3
   },
   "file_extension": ".py",
   "mimetype": "text/x-python",
   "name": "python",
   "nbconvert_exporter": "python",
   "pygments_lexer": "ipython3",
   "version": "3.12.1"
  }
 },
 "nbformat": 4,
 "nbformat_minor": 2
}
