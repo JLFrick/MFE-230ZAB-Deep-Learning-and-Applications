{
 "cells": [
  {
   "cell_type": "code",
   "execution_count": 1,
   "metadata": {},
   "outputs": [
    {
     "name": "stdout",
     "output_type": "stream",
     "text": [
      "import start\n",
      "import end\n"
     ]
    }
   ],
   "source": [
    "import pandas as pd\n",
    "import matplotlib.pyplot as plt\n",
    "from datetime import datetime\n",
    "import scipy as sc \n",
    "import numpy as np\n",
    "import cvxpy as cvx\n",
    "\n",
    "import sys\n",
    "import os\n",
    "import importlib\n",
    "\n",
    "sys.path.append(os.path.abspath(os.path.join(os.getcwd(), '..')))\n",
    "\n",
    "import covariance_functions.general_functions as gf\n",
    "import covariance_functions.em_functions as em\n",
    "import covariance_functions.ewma_functions as ewma\n",
    "import covariance_functions.regularization_functions as reg\n",
    "\n",
    "print(f\"import start\")\n",
    "importlib.reload(gf)\n",
    "importlib.reload(em)\n",
    "importlib.reload(ewma)\n",
    "importlib.reload(reg)\n",
    "print(f\"import end\")\n",
    "\n",
    "from covariance_functions.em_functions import *\n",
    "from covariance_functions.ewma_functions import *\n",
    "from covariance_functions.ewma_functions import _ewma_cov\n",
    "from covariance_functions.ewma_functions import iterated_ewma\n",
    "from covariance_functions.general_functions import *\n",
    "from covariance_functions.regularization_functions import *\n"
   ]
  },
  {
   "cell_type": "markdown",
   "metadata": {},
   "source": [
    "# Import Data"
   ]
  },
  {
   "cell_type": "code",
   "execution_count": 2,
   "metadata": {},
   "outputs": [],
   "source": [
    "returns_no_rf = pd.read_csv('data/ff5_no_rf.csv')\n",
    "returns_rf = pd.read_csv('data/ff5.csv')"
   ]
  },
  {
   "cell_type": "code",
   "execution_count": 3,
   "metadata": {},
   "outputs": [
    {
     "data": {
      "text/html": [
       "<div>\n",
       "<style scoped>\n",
       "    .dataframe tbody tr th:only-of-type {\n",
       "        vertical-align: middle;\n",
       "    }\n",
       "\n",
       "    .dataframe tbody tr th {\n",
       "        vertical-align: top;\n",
       "    }\n",
       "\n",
       "    .dataframe thead th {\n",
       "        text-align: right;\n",
       "    }\n",
       "</style>\n",
       "<table border=\"1\" class=\"dataframe\">\n",
       "  <thead>\n",
       "    <tr style=\"text-align: right;\">\n",
       "      <th></th>\n",
       "      <th>Unnamed: 0</th>\n",
       "      <th>Mkt-RF</th>\n",
       "      <th>SMB</th>\n",
       "      <th>HML</th>\n",
       "      <th>RMW</th>\n",
       "      <th>CMA</th>\n",
       "    </tr>\n",
       "  </thead>\n",
       "  <tbody>\n",
       "    <tr>\n",
       "      <th>0</th>\n",
       "      <td>1963-07-01</td>\n",
       "      <td>-0.0067</td>\n",
       "      <td>0.0002</td>\n",
       "      <td>-0.0035</td>\n",
       "      <td>0.0003</td>\n",
       "      <td>0.0013</td>\n",
       "    </tr>\n",
       "    <tr>\n",
       "      <th>1</th>\n",
       "      <td>1963-07-02</td>\n",
       "      <td>0.0079</td>\n",
       "      <td>-0.0028</td>\n",
       "      <td>0.0028</td>\n",
       "      <td>-0.0008</td>\n",
       "      <td>-0.0021</td>\n",
       "    </tr>\n",
       "    <tr>\n",
       "      <th>2</th>\n",
       "      <td>1963-07-03</td>\n",
       "      <td>0.0063</td>\n",
       "      <td>-0.0018</td>\n",
       "      <td>-0.0010</td>\n",
       "      <td>0.0013</td>\n",
       "      <td>-0.0025</td>\n",
       "    </tr>\n",
       "    <tr>\n",
       "      <th>3</th>\n",
       "      <td>1963-07-05</td>\n",
       "      <td>0.0040</td>\n",
       "      <td>0.0009</td>\n",
       "      <td>-0.0028</td>\n",
       "      <td>0.0007</td>\n",
       "      <td>-0.0030</td>\n",
       "    </tr>\n",
       "    <tr>\n",
       "      <th>4</th>\n",
       "      <td>1963-07-08</td>\n",
       "      <td>-0.0063</td>\n",
       "      <td>0.0007</td>\n",
       "      <td>-0.0020</td>\n",
       "      <td>-0.0027</td>\n",
       "      <td>0.0006</td>\n",
       "    </tr>\n",
       "    <tr>\n",
       "      <th>...</th>\n",
       "      <td>...</td>\n",
       "      <td>...</td>\n",
       "      <td>...</td>\n",
       "      <td>...</td>\n",
       "      <td>...</td>\n",
       "      <td>...</td>\n",
       "    </tr>\n",
       "    <tr>\n",
       "      <th>14974</th>\n",
       "      <td>2022-12-23</td>\n",
       "      <td>0.0051</td>\n",
       "      <td>-0.0034</td>\n",
       "      <td>0.0115</td>\n",
       "      <td>0.0086</td>\n",
       "      <td>0.0046</td>\n",
       "    </tr>\n",
       "    <tr>\n",
       "      <th>14975</th>\n",
       "      <td>2022-12-27</td>\n",
       "      <td>-0.0051</td>\n",
       "      <td>-0.0042</td>\n",
       "      <td>0.0142</td>\n",
       "      <td>0.0113</td>\n",
       "      <td>0.0121</td>\n",
       "    </tr>\n",
       "    <tr>\n",
       "      <th>14976</th>\n",
       "      <td>2022-12-28</td>\n",
       "      <td>-0.0123</td>\n",
       "      <td>-0.0030</td>\n",
       "      <td>-0.0029</td>\n",
       "      <td>-0.0096</td>\n",
       "      <td>-0.0003</td>\n",
       "    </tr>\n",
       "    <tr>\n",
       "      <th>14977</th>\n",
       "      <td>2022-12-29</td>\n",
       "      <td>0.0187</td>\n",
       "      <td>0.0104</td>\n",
       "      <td>-0.0107</td>\n",
       "      <td>-0.0101</td>\n",
       "      <td>-0.0082</td>\n",
       "    </tr>\n",
       "    <tr>\n",
       "      <th>14978</th>\n",
       "      <td>2022-12-30</td>\n",
       "      <td>-0.0022</td>\n",
       "      <td>0.0012</td>\n",
       "      <td>-0.0003</td>\n",
       "      <td>-0.0053</td>\n",
       "      <td>0.0002</td>\n",
       "    </tr>\n",
       "  </tbody>\n",
       "</table>\n",
       "<p>14979 rows × 6 columns</p>\n",
       "</div>"
      ],
      "text/plain": [
       "       Unnamed: 0  Mkt-RF     SMB     HML     RMW     CMA\n",
       "0      1963-07-01 -0.0067  0.0002 -0.0035  0.0003  0.0013\n",
       "1      1963-07-02  0.0079 -0.0028  0.0028 -0.0008 -0.0021\n",
       "2      1963-07-03  0.0063 -0.0018 -0.0010  0.0013 -0.0025\n",
       "3      1963-07-05  0.0040  0.0009 -0.0028  0.0007 -0.0030\n",
       "4      1963-07-08 -0.0063  0.0007 -0.0020 -0.0027  0.0006\n",
       "...           ...     ...     ...     ...     ...     ...\n",
       "14974  2022-12-23  0.0051 -0.0034  0.0115  0.0086  0.0046\n",
       "14975  2022-12-27 -0.0051 -0.0042  0.0142  0.0113  0.0121\n",
       "14976  2022-12-28 -0.0123 -0.0030 -0.0029 -0.0096 -0.0003\n",
       "14977  2022-12-29  0.0187  0.0104 -0.0107 -0.0101 -0.0082\n",
       "14978  2022-12-30 -0.0022  0.0012 -0.0003 -0.0053  0.0002\n",
       "\n",
       "[14979 rows x 6 columns]"
      ]
     },
     "execution_count": 3,
     "metadata": {},
     "output_type": "execute_result"
    }
   ],
   "source": [
    "returns_no_rf"
   ]
  },
  {
   "cell_type": "markdown",
   "metadata": {},
   "source": [
    "# Data Pre-Processing"
   ]
  },
  {
   "cell_type": "code",
   "execution_count": 4,
   "metadata": {},
   "outputs": [
    {
     "data": {
      "text/html": [
       "<div>\n",
       "<style scoped>\n",
       "    .dataframe tbody tr th:only-of-type {\n",
       "        vertical-align: middle;\n",
       "    }\n",
       "\n",
       "    .dataframe tbody tr th {\n",
       "        vertical-align: top;\n",
       "    }\n",
       "\n",
       "    .dataframe thead th {\n",
       "        text-align: right;\n",
       "    }\n",
       "</style>\n",
       "<table border=\"1\" class=\"dataframe\">\n",
       "  <thead>\n",
       "    <tr style=\"text-align: right;\">\n",
       "      <th></th>\n",
       "      <th>Mkt-RF</th>\n",
       "      <th>SMB</th>\n",
       "      <th>HML</th>\n",
       "      <th>RMW</th>\n",
       "      <th>CMA</th>\n",
       "    </tr>\n",
       "    <tr>\n",
       "      <th>Date</th>\n",
       "      <th></th>\n",
       "      <th></th>\n",
       "      <th></th>\n",
       "      <th></th>\n",
       "      <th></th>\n",
       "    </tr>\n",
       "  </thead>\n",
       "  <tbody>\n",
       "    <tr>\n",
       "      <th>1963-07-01</th>\n",
       "      <td>-0.0067</td>\n",
       "      <td>0.0002</td>\n",
       "      <td>-0.0035</td>\n",
       "      <td>0.0003</td>\n",
       "      <td>0.0013</td>\n",
       "    </tr>\n",
       "    <tr>\n",
       "      <th>1963-07-02</th>\n",
       "      <td>0.0079</td>\n",
       "      <td>-0.0028</td>\n",
       "      <td>0.0028</td>\n",
       "      <td>-0.0008</td>\n",
       "      <td>-0.0021</td>\n",
       "    </tr>\n",
       "    <tr>\n",
       "      <th>1963-07-03</th>\n",
       "      <td>0.0063</td>\n",
       "      <td>-0.0018</td>\n",
       "      <td>-0.0010</td>\n",
       "      <td>0.0013</td>\n",
       "      <td>-0.0025</td>\n",
       "    </tr>\n",
       "    <tr>\n",
       "      <th>1963-07-05</th>\n",
       "      <td>0.0040</td>\n",
       "      <td>0.0009</td>\n",
       "      <td>-0.0028</td>\n",
       "      <td>0.0007</td>\n",
       "      <td>-0.0030</td>\n",
       "    </tr>\n",
       "    <tr>\n",
       "      <th>1963-07-08</th>\n",
       "      <td>-0.0063</td>\n",
       "      <td>0.0007</td>\n",
       "      <td>-0.0020</td>\n",
       "      <td>-0.0027</td>\n",
       "      <td>0.0006</td>\n",
       "    </tr>\n",
       "    <tr>\n",
       "      <th>...</th>\n",
       "      <td>...</td>\n",
       "      <td>...</td>\n",
       "      <td>...</td>\n",
       "      <td>...</td>\n",
       "      <td>...</td>\n",
       "    </tr>\n",
       "    <tr>\n",
       "      <th>2022-12-23</th>\n",
       "      <td>0.0051</td>\n",
       "      <td>-0.0034</td>\n",
       "      <td>0.0115</td>\n",
       "      <td>0.0086</td>\n",
       "      <td>0.0046</td>\n",
       "    </tr>\n",
       "    <tr>\n",
       "      <th>2022-12-27</th>\n",
       "      <td>-0.0051</td>\n",
       "      <td>-0.0042</td>\n",
       "      <td>0.0142</td>\n",
       "      <td>0.0113</td>\n",
       "      <td>0.0121</td>\n",
       "    </tr>\n",
       "    <tr>\n",
       "      <th>2022-12-28</th>\n",
       "      <td>-0.0123</td>\n",
       "      <td>-0.0030</td>\n",
       "      <td>-0.0029</td>\n",
       "      <td>-0.0096</td>\n",
       "      <td>-0.0003</td>\n",
       "    </tr>\n",
       "    <tr>\n",
       "      <th>2022-12-29</th>\n",
       "      <td>0.0187</td>\n",
       "      <td>0.0104</td>\n",
       "      <td>-0.0107</td>\n",
       "      <td>-0.0101</td>\n",
       "      <td>-0.0082</td>\n",
       "    </tr>\n",
       "    <tr>\n",
       "      <th>2022-12-30</th>\n",
       "      <td>-0.0022</td>\n",
       "      <td>0.0012</td>\n",
       "      <td>-0.0003</td>\n",
       "      <td>-0.0053</td>\n",
       "      <td>0.0002</td>\n",
       "    </tr>\n",
       "  </tbody>\n",
       "</table>\n",
       "<p>14979 rows × 5 columns</p>\n",
       "</div>"
      ],
      "text/plain": [
       "            Mkt-RF     SMB     HML     RMW     CMA\n",
       "Date                                              \n",
       "1963-07-01 -0.0067  0.0002 -0.0035  0.0003  0.0013\n",
       "1963-07-02  0.0079 -0.0028  0.0028 -0.0008 -0.0021\n",
       "1963-07-03  0.0063 -0.0018 -0.0010  0.0013 -0.0025\n",
       "1963-07-05  0.0040  0.0009 -0.0028  0.0007 -0.0030\n",
       "1963-07-08 -0.0063  0.0007 -0.0020 -0.0027  0.0006\n",
       "...            ...     ...     ...     ...     ...\n",
       "2022-12-23  0.0051 -0.0034  0.0115  0.0086  0.0046\n",
       "2022-12-27 -0.0051 -0.0042  0.0142  0.0113  0.0121\n",
       "2022-12-28 -0.0123 -0.0030 -0.0029 -0.0096 -0.0003\n",
       "2022-12-29  0.0187  0.0104 -0.0107 -0.0101 -0.0082\n",
       "2022-12-30 -0.0022  0.0012 -0.0003 -0.0053  0.0002\n",
       "\n",
       "[14979 rows x 5 columns]"
      ]
     },
     "execution_count": 4,
     "metadata": {},
     "output_type": "execute_result"
    }
   ],
   "source": [
    "returns_no_rf = returns_no_rf.set_index('Unnamed: 0')\n",
    "returns_no_rf = returns_no_rf.rename_axis('Date', axis='index')\n",
    "returns_no_rf.index = pd.to_datetime(returns_no_rf.index, format='%Y-%m-%d')\n",
    "returns_no_rf"
   ]
  },
  {
   "cell_type": "markdown",
   "metadata": {},
   "source": [
    "# Plot Cumulative Return of Each Factors"
   ]
  },
  {
   "cell_type": "code",
   "execution_count": 5,
   "metadata": {},
   "outputs": [
    {
     "data": {
      "image/png": "[encoded data removed]",
      "text/plain": [
       "<Figure size 640x480 with 1 Axes>"
      ]
     },
     "metadata": {},
     "output_type": "display_data"
    }
   ],
   "source": [
    "\"\"\"\n",
    "https://matplotlib.org/stable/gallery/style_sheets/style_sheets_reference.html\n",
    "\"\"\"\n",
    "columns = returns_no_rf.columns\n",
    "cum_return = (returns_no_rf[columns] + 1).cumprod(axis=0)\n",
    "\n",
    "plt.style.use('tableau-colorblind10')\n",
    "\n",
    "plt.plot(cum_return, label=columns)\n",
    "plt.legend(bbox_to_anchor=(1.05, 1), loc=2, borderaxespad=0.)\n",
    "plt.title('Time Series Plot of Factors')\n",
    "plt.xlabel('Date')\n",
    "plt.ylabel('Returns')\n",
    "plt.yscale('log')\n",
    "plt.grid(True)\n",
    "plt.show()"
   ]
  },
  {
   "cell_type": "markdown",
   "metadata": {},
   "source": [
    "# Define Halflife Pairs\n",
    "#### Specify the volatility halflife and covariance halflife for the EWMA"
   ]
  },
  {
   "cell_type": "code",
   "execution_count": 6,
   "metadata": {},
   "outputs": [],
   "source": [
    "# provided\n",
    "\"\"\"\n",
    "rw_memory = rolling window size\n",
    "    - reflect the number of trading days considered relevant.\n",
    "    - 3 months = 60 days\n",
    "    - 6 months = 125 days\n",
    "    - 1 year = 250 days\n",
    "ewma_halflife\n",
    "iewma_pair = tuple (volatility halflife, covariance halflife) for a single iewma\n",
    "cm_iewma_pairs = list of tuples of iewma_pairs\n",
    "    - looks like the pairs are chosen to capture a variety of date ranges, from short term to 1 year\n",
    "\"\"\"\n",
    "rw_memory = 125   \n",
    "ewma_halflife = 63\n",
    "iewma_pair = (21,63)\n",
    "cm_iewma_pairs = [(5, 10), (10, 21), (21, 63), (63, 125), (125, 250)]"
   ]
  },
  {
   "cell_type": "markdown",
   "metadata": {},
   "source": [
    "# CM-IEWMA - Combined Multiple - Iterated Exponentially Weighted Moving Average\n"
   ]
  },
  {
   "cell_type": "markdown",
   "metadata": {},
   "source": [
    "#### Start with IEWMA then combine it via SIGMA"
   ]
  },
  {
   "cell_type": "code",
   "execution_count": 7,
   "metadata": {},
   "outputs": [
    {
     "name": "stdout",
     "output_type": "stream",
     "text": [
      "Running iterated_ewma\n",
      "Running iterated_ewma\n",
      "Running iterated_ewma\n",
      "Running iterated_ewma\n",
      "Running iterated_ewma\n",
      "Running iterated_ewma\n"
     ]
    }
   ],
   "source": [
    "iewma = list(iterated_ewma(returns_no_rf, vola_halflife=iewma_pair[0],cov_halflife=iewma_pair[1]))\n",
    "iewma = {iterate.time: iterate.covariance for iterate in iewma}\n",
    "\n",
    "iewmas = {f\"{pair[0]}-{pair[1]}\": list(iterated_ewma(returns_no_rf, vola_halflife=pair[0], cov_halflife=pair[1], min_periods_vola=63, min_periods_cov=63)) for pair in cm_iewma_pairs}\n",
    "Sigmas = {key: {item.time: item.covariance for item in iewma} for key, iewma in iewmas.items()}"
   ]
  },
  {
   "cell_type": "code",
   "execution_count": 8,
   "metadata": {},
   "outputs": [],
   "source": [
    "fast = cm_iewma_pairs[0]; fast = f\"{fast[0]}-{fast[1]}\"\n",
    "Sigmas[fast] = add_to_diagonal(Sigmas[fast], lamda=0.05)\n",
    "\n",
    "results = list(from_sigmas(Sigmas, returns_no_rf, means=None).solve(window=10))"
   ]
  },
  {
   "cell_type": "code",
   "execution_count": 9,
   "metadata": {},
   "outputs": [],
   "source": [
    "cm_iewma = {result.time: result.covariance for result in results}\n",
    "weights = {result.time: result.weights for result in results} # matches"
   ]
  },
  {
   "cell_type": "markdown",
   "metadata": {},
   "source": [
    "# Other Methods for Comparison\n",
    "\n",
    "### Rolling Window Covariance Estimation"
   ]
  },
  {
   "cell_type": "code",
   "execution_count": 10,
   "metadata": {},
   "outputs": [],
   "source": [
    "# general_functions: rolling_window #matches\n",
    "rw = rolling_window(returns_no_rf, rw_memory) "
   ]
  },
  {
   "cell_type": "markdown",
   "metadata": {},
   "source": [
    "### EWMA - Exponentially Weighted Moving Average"
   ]
  },
  {
   "cell_type": "code",
   "execution_count": 11,
   "metadata": {},
   "outputs": [],
   "source": [
    "# ewma_functions: ewma #matches\n",
    "ewma = dict(_ewma_cov(returns_no_rf, halflife=ewma_halflife))"
   ]
  },
  {
   "cell_type": "markdown",
   "metadata": {},
   "source": [
    "### IEWMA - Iterated Exponentially Weighted Moving Average"
   ]
  },
  {
   "cell_type": "code",
   "execution_count": 12,
   "metadata": {},
   "outputs": [
    {
     "name": "stdout",
     "output_type": "stream",
     "text": [
      "Running iterated_ewma\n"
     ]
    }
   ],
   "source": [
    "#ewma_functions: iterated_ewma  \n",
    "iewma = list(iterated_ewma(returns_no_rf, vola_halflife=iewma_pair[0],cov_halflife=iewma_pair[1]))\n",
    "iewma = {iterate.time: iterate.covariance for iterate in iewma}"
   ]
  },
  {
   "cell_type": "markdown",
   "metadata": {},
   "source": [
    "### MGARCH - Multivariate GARCH"
   ]
  },
  {
   "cell_type": "code",
   "execution_count": 13,
   "metadata": {},
   "outputs": [
    {
     "ename": "NameError",
     "evalue": "name 'from_row_to_covariance' is not defined",
     "output_type": "error",
     "traceback": [
      "\u001b[0;31m---------------------------------------------------------------------------\u001b[0m",
      "\u001b[0;31mNameError\u001b[0m                                 Traceback (most recent call last)",
      "Cell \u001b[0;32mIn[13], line 2\u001b[0m\n\u001b[1;32m      1\u001b[0m mgarch_cond_cov \u001b[38;5;241m=\u001b[39m pd\u001b[38;5;241m.\u001b[39mread_csv(\u001b[38;5;124m\"\u001b[39m\u001b[38;5;124mmgarch_predictors_from_R/factor_returns/mgarch_ff5.csv\u001b[39m\u001b[38;5;124m\"\u001b[39m, index_col\u001b[38;5;241m=\u001b[39m\u001b[38;5;28;01mNone\u001b[39;00m)\n\u001b[0;32m----> 2\u001b[0m Sigmas \u001b[38;5;241m=\u001b[39m \u001b[43mfrom_row_matrix_to_covariance\u001b[49m\u001b[43m(\u001b[49m\u001b[43mmgarch_cond_cov\u001b[49m\u001b[38;5;241;43m.\u001b[39;49m\u001b[43mvalues\u001b[49m\u001b[43m,\u001b[49m\u001b[43m \u001b[49m\u001b[43mreturns_no_rf\u001b[49m\u001b[38;5;241;43m.\u001b[39;49m\u001b[43mshape\u001b[49m\u001b[43m[\u001b[49m\u001b[38;5;241;43m1\u001b[39;49m\u001b[43m]\u001b[49m\u001b[43m)\u001b[49m \u001b[38;5;241m/\u001b[39m \u001b[38;5;241m10000\u001b[39m\n\u001b[1;32m      4\u001b[0m \u001b[38;5;66;03m# Remove first year since it was used for training\u001b[39;00m\n\u001b[1;32m      5\u001b[0m times \u001b[38;5;241m=\u001b[39m returns_no_rf\u001b[38;5;241m.\u001b[39mindex[\u001b[38;5;241m249\u001b[39m:] \n",
      "File \u001b[0;32m~/Desktop/MFE/Term3/230ZA_ZB/MFE-230ZA-Deep-Learning-and-Applications/covariance_functions/general_functions.py:61\u001b[0m, in \u001b[0;36mfrom_row_matrix_to_covariance\u001b[0;34m(M, n)\u001b[0m\n\u001b[1;32m     59\u001b[0m T \u001b[38;5;241m=\u001b[39m M\u001b[38;5;241m.\u001b[39mshape[\u001b[38;5;241m0\u001b[39m]\n\u001b[1;32m     60\u001b[0m \u001b[38;5;28;01mfor\u001b[39;00m t \u001b[38;5;129;01min\u001b[39;00m \u001b[38;5;28mrange\u001b[39m(T):\n\u001b[0;32m---> 61\u001b[0m     Sigmas\u001b[38;5;241m.\u001b[39mappend(\u001b[43mfrom_row_to_covariance\u001b[49m(M[t], n))\n\u001b[1;32m     62\u001b[0m \u001b[38;5;28;01mreturn\u001b[39;00m np\u001b[38;5;241m.\u001b[39marray(Sigmas)\n",
      "\u001b[0;31mNameError\u001b[0m: name 'from_row_to_covariance' is not defined"
     ]
    }
   ],
   "source": [
    "mgarch_cond_cov = pd.read_csv(\"mgarch_predictors_from_R/factor_returns/mgarch_ff5.csv\", index_col=None)\n",
    "Sigmas = from_row_matrix_to_covariance(mgarch_cond_cov.values, returns_no_rf.shape[1]) / 10000\n",
    "\n",
    "# Remove first year since it was used for training\n",
    "times = returns_no_rf.index[249:] \n",
    "mgarch = {times[t]: pd.DataFrame(Sigmas[t], index=returns_no_rf.columns, columns=returns_no_rf.columns) for t in range(Sigmas.shape[0])}"
   ]
  },
  {
   "cell_type": "markdown",
   "metadata": {},
   "source": [
    "### Prescient (Perfect Foresight Covariance Matrix)"
   ]
  },
  {
   "cell_type": "code",
   "execution_count": null,
   "metadata": {},
   "outputs": [],
   "source": [
    "# Prescient \n",
    "prescient = {}\n",
    "for t in returns_no_rf.index:\n",
    "    # get sample covariance matrix for corresponding quarter\n",
    "    quarter = (t.month-1)//3 + 1\n",
    "    cov = np.cov(returns_no_rf.loc[(returns_no_rf.index.year == t.year) & (returns_no_rf.index.quarter == quarter)].values, rowvar=False)\n",
    "    mean = np.mean(returns_no_rf.loc[(returns_no_rf.index.year == t.year) & (returns_no_rf.index.quarter == quarter)].values, axis=0)\n",
    "    prescient[t] = pd.DataFrame(cov+np.outer(mean, mean), index=returns_no_rf.columns, columns=returns_no_rf.columns)"
   ]
  },
  {
   "cell_type": "markdown",
   "metadata": {},
   "source": [
    "# Backtests\n",
    "### MSE Calculation\n",
    "##### Compares each method's predicted covariance matrix against actual realized covariances useing the MSE metric for each method on a quarterly basis (RW, EWMA, IEWMA, MGARCH, CM-IEWMA, Prescient)"
   ]
  },
  {
   "cell_type": "code",
   "execution_count": null,
   "metadata": {},
   "outputs": [],
   "source": []
  },
  {
   "cell_type": "markdown",
   "metadata": {},
   "source": [
    "### Log-Likelihood Calculation\n",
    "##### Evaluate how well the covariance matrix fits the observed returns"
   ]
  },
  {
   "cell_type": "code",
   "execution_count": null,
   "metadata": {},
   "outputs": [],
   "source": []
  },
  {
   "cell_type": "markdown",
   "metadata": {},
   "source": []
  }
 ],
 "metadata": {
  "kernelspec": {
   "display_name": "230X",
   "language": "python",
   "name": "python3"
  },
  "language_info": {
   "codemirror_mode": {
    "name": "ipython",
    "version": 3
   },
   "file_extension": ".py",
   "mimetype": "text/x-python",
   "name": "python",
   "nbconvert_exporter": "python",
   "pygments_lexer": "ipython3",
   "version": "3.8.19"
  }
 },
 "nbformat": 4,
 "nbformat_minor": 2
}
