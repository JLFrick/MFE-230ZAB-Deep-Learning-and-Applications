{
 "cells": [
  {
   "cell_type": "code",
   "execution_count": 133,
   "metadata": {},
   "outputs": [],
   "source": [
    "# Imports\n",
    "from strategy.actions import random_action\n",
    "from data.fetch_data import fetch_data\n",
    "from data.process_data import calculate_returns\n",
    "from visualizations.plot_results import plot_net_worth, plot_cash, plot_portfolio_value, plot_rewards\n",
    "from simulations.run_simulation import run_simulation\n",
    "\n",
    "import numpy as np\n",
    "import pandas as pd\n",
    "from matplotlib import pyplot as plt\n",
    "import warnings\n",
    "\n",
    "warnings.filterwarnings(\"ignore\", category=FutureWarning)"
   ]
  },
  {
   "cell_type": "code",
   "execution_count": 31,
   "metadata": {},
   "outputs": [
    {
     "name": "stderr",
     "output_type": "stream",
     "text": [
      "[*********************100%%**********************]  3 of 3 completed\n"
     ]
    },
    {
     "data": {
      "text/html": [
       "<div>\n",
       "<style scoped>\n",
       "    .dataframe tbody tr th:only-of-type {\n",
       "        vertical-align: middle;\n",
       "    }\n",
       "\n",
       "    .dataframe tbody tr th {\n",
       "        vertical-align: top;\n",
       "    }\n",
       "\n",
       "    .dataframe thead th {\n",
       "        text-align: right;\n",
       "    }\n",
       "</style>\n",
       "<table border=\"1\" class=\"dataframe\">\n",
       "  <thead>\n",
       "    <tr style=\"text-align: right;\">\n",
       "      <th>Ticker</th>\n",
       "      <th>AAPL</th>\n",
       "      <th>IBM</th>\n",
       "      <th>KO</th>\n",
       "    </tr>\n",
       "    <tr>\n",
       "      <th>Date</th>\n",
       "      <th></th>\n",
       "      <th></th>\n",
       "      <th></th>\n",
       "    </tr>\n",
       "  </thead>\n",
       "  <tbody>\n",
       "    <tr>\n",
       "      <th>2010-01-01</th>\n",
       "      <td>6.351058</td>\n",
       "      <td>73.703934</td>\n",
       "      <td>17.938570</td>\n",
       "    </tr>\n",
       "    <tr>\n",
       "      <th>2010-01-08</th>\n",
       "      <td>6.316374</td>\n",
       "      <td>75.274139</td>\n",
       "      <td>18.238665</td>\n",
       "    </tr>\n",
       "    <tr>\n",
       "      <th>2010-01-15</th>\n",
       "      <td>6.275355</td>\n",
       "      <td>73.390991</td>\n",
       "      <td>17.357544</td>\n",
       "    </tr>\n",
       "    <tr>\n",
       "      <th>2010-01-22</th>\n",
       "      <td>6.010552</td>\n",
       "      <td>70.404167</td>\n",
       "      <td>17.296885</td>\n",
       "    </tr>\n",
       "    <tr>\n",
       "      <th>2010-01-29</th>\n",
       "      <td>5.792195</td>\n",
       "      <td>69.977478</td>\n",
       "      <td>17.057447</td>\n",
       "    </tr>\n",
       "    <tr>\n",
       "      <th>...</th>\n",
       "      <td>...</td>\n",
       "      <td>...</td>\n",
       "      <td>...</td>\n",
       "    </tr>\n",
       "    <tr>\n",
       "      <th>2017-12-01</th>\n",
       "      <td>39.876526</td>\n",
       "      <td>107.056381</td>\n",
       "      <td>37.264786</td>\n",
       "    </tr>\n",
       "    <tr>\n",
       "      <th>2017-12-08</th>\n",
       "      <td>40.559509</td>\n",
       "      <td>107.356133</td>\n",
       "      <td>37.468292</td>\n",
       "    </tr>\n",
       "    <tr>\n",
       "      <th>2017-12-15</th>\n",
       "      <td>41.216583</td>\n",
       "      <td>105.613365</td>\n",
       "      <td>37.118263</td>\n",
       "    </tr>\n",
       "    <tr>\n",
       "      <th>2017-12-22</th>\n",
       "      <td>40.291035</td>\n",
       "      <td>107.384079</td>\n",
       "      <td>37.215958</td>\n",
       "    </tr>\n",
       "    <tr>\n",
       "      <th>2017-12-29</th>\n",
       "      <td>39.855320</td>\n",
       "      <td>106.951813</td>\n",
       "      <td>37.346195</td>\n",
       "    </tr>\n",
       "  </tbody>\n",
       "</table>\n",
       "<p>418 rows × 3 columns</p>\n",
       "</div>"
      ],
      "text/plain": [
       "Ticker           AAPL         IBM         KO\n",
       "Date                                        \n",
       "2010-01-01   6.351058   73.703934  17.938570\n",
       "2010-01-08   6.316374   75.274139  18.238665\n",
       "2010-01-15   6.275355   73.390991  17.357544\n",
       "2010-01-22   6.010552   70.404167  17.296885\n",
       "2010-01-29   5.792195   69.977478  17.057447\n",
       "...               ...         ...        ...\n",
       "2017-12-01  39.876526  107.056381  37.264786\n",
       "2017-12-08  40.559509  107.356133  37.468292\n",
       "2017-12-15  41.216583  105.613365  37.118263\n",
       "2017-12-22  40.291035  107.384079  37.215958\n",
       "2017-12-29  39.855320  106.951813  37.346195\n",
       "\n",
       "[418 rows x 3 columns]"
      ]
     },
     "execution_count": 31,
     "metadata": {},
     "output_type": "execute_result"
    }
   ],
   "source": [
    "tickers = ['AAPL', 'KO', 'IBM']\n",
    "start_date = \"2010-01-01\"\n",
    "end_date = \"2017-12-31\"\n",
    "\n",
    "data = fetch_data(tickers, start_date, end_date)\n",
    "rets = calculate_returns(data)\n",
    "data"
   ]
  },
  {
   "cell_type": "code",
   "execution_count": 85,
   "metadata": {},
   "outputs": [],
   "source": [
    "np.random.seed(123)\n",
    "\n",
    "mapper = {'AAPL': [rets['AAPL'].values, data['AAPL'].values[0], 0, 75], \n",
    "            'KO': [rets['KO'].values, data['KO'].values[0], 0, 75],\n",
    "            'IBM': [rets['IBM'].values, data['IBM'].values[0], 10, 1150]}\n",
    "\n",
    "initial_price_map = {'AAPL': data['AAPL'].values[0], \n",
    "            'KO': data['KO'].values[0],\n",
    "            'IBM': data['IBM'].values[0]}\n",
    "\n",
    "paths = {'AAPL': [], 'KO': [], 'IBM': []}\n",
    "raw_paths = {'AAPL': [], 'KO': [], 'IBM': []}\n",
    "\n",
    "for tick in tickers:\n",
    "    emp_dist = mapper[tick][0]\n",
    "\n",
    "    for i in range(10000):\n",
    "        ret_path = np.random.choice(emp_dist, size=len(emp_dist), replace=True)\n",
    "        raw_path = mapper[tick][1] * (1 + ret_path).cumprod()\n",
    "        raw_paths[tick].append(raw_path)\n"
   ]
  },
  {
   "cell_type": "code",
   "execution_count": 90,
   "metadata": {},
   "outputs": [
    {
     "data": {
      "text/plain": [
       "array([[[0., 0., 0., ..., 0., 0., 0.],\n",
       "        [0., 0., 0., ..., 0., 0., 0.],\n",
       "        [0., 0., 0., ..., 0., 0., 0.],\n",
       "        ...,\n",
       "        [0., 0., 0., ..., 0., 0., 0.],\n",
       "        [0., 0., 0., ..., 0., 0., 0.],\n",
       "        [0., 0., 0., ..., 0., 0., 0.]],\n",
       "\n",
       "       [[0., 0., 0., ..., 0., 0., 0.],\n",
       "        [0., 0., 0., ..., 0., 0., 0.],\n",
       "        [0., 0., 0., ..., 0., 0., 0.],\n",
       "        ...,\n",
       "        [0., 0., 0., ..., 0., 0., 0.],\n",
       "        [0., 0., 0., ..., 0., 0., 0.],\n",
       "        [0., 0., 0., ..., 0., 0., 0.]],\n",
       "\n",
       "       [[0., 0., 0., ..., 0., 0., 0.],\n",
       "        [0., 0., 0., ..., 0., 0., 0.],\n",
       "        [0., 0., 0., ..., 0., 0., 0.],\n",
       "        ...,\n",
       "        [0., 0., 0., ..., 0., 0., 0.],\n",
       "        [0., 0., 0., ..., 0., 0., 0.],\n",
       "        [0., 0., 0., ..., 0., 0., 0.]],\n",
       "\n",
       "       ...,\n",
       "\n",
       "       [[0., 0., 0., ..., 0., 0., 0.],\n",
       "        [0., 0., 0., ..., 0., 0., 0.],\n",
       "        [0., 0., 0., ..., 0., 0., 0.],\n",
       "        ...,\n",
       "        [0., 0., 0., ..., 0., 0., 0.],\n",
       "        [0., 0., 0., ..., 0., 0., 0.],\n",
       "        [0., 0., 0., ..., 0., 0., 0.]],\n",
       "\n",
       "       [[0., 0., 0., ..., 0., 0., 0.],\n",
       "        [0., 0., 0., ..., 0., 0., 0.],\n",
       "        [0., 0., 0., ..., 0., 0., 0.],\n",
       "        ...,\n",
       "        [0., 0., 0., ..., 0., 0., 0.],\n",
       "        [0., 0., 0., ..., 0., 0., 0.],\n",
       "        [0., 0., 0., ..., 0., 0., 0.]],\n",
       "\n",
       "       [[0., 0., 0., ..., 0., 0., 0.],\n",
       "        [0., 0., 0., ..., 0., 0., 0.],\n",
       "        [0., 0., 0., ..., 0., 0., 0.],\n",
       "        ...,\n",
       "        [0., 0., 0., ..., 0., 0., 0.],\n",
       "        [0., 0., 0., ..., 0., 0., 0.],\n",
       "        [0., 0., 0., ..., 0., 0., 0.]]])"
      ]
     },
     "execution_count": 90,
     "metadata": {},
     "output_type": "execute_result"
    }
   ],
   "source": [
    "# Initialize the Q-table\n",
    "Q_table = np.zeros((64, 27, 27)) \n",
    "Q_table"
   ]
  },
  {
   "cell_type": "code",
   "execution_count": 168,
   "metadata": {},
   "outputs": [],
   "source": [
    "def discretize_rets(rets, n_states=4, min_ret=-0.11, max_ret=0.14):\n",
    "    return np.clip(np.floor((rets - min_ret) / (max_ret - min_ret) * n_states), 0, n_states - 1).astype(int) + 1"
   ]
  },
  {
   "cell_type": "code",
   "execution_count": 128,
   "metadata": {},
   "outputs": [],
   "source": [
    "def map_ret_state_to_real(ret_state):\n",
    "    real = ((ret_state[0] - 1) * 16) + ((ret_state[1] - 1) * 4) + (ret_state[2] - 1)\n",
    "    return real\n",
    "\n",
    "def map_pos_state_to_real(pos_state):\n",
    "    real = ((pos_state[0] - 1) * 9) + ((pos_state[1] - 1) * 3) + (pos_state[2] - 1)\n",
    "    return real\n",
    "\n",
    "def map_real_to_pos_state(real_number):\n",
    "    # Convert the real number to base-3 (get three digits)\n",
    "    d1 = real_number // 9   # Corresponds to the first die\n",
    "    d2 = (real_number % 9) // 3   # Corresponds to the second die\n",
    "    d3 = real_number % 3   # Corresponds to the third die\n",
    "\n",
    "    # Map base-3 digits (0, 1, 2) back to dice values (1, 2, 3)\n",
    "    return np.array([d1 + 1, d2 + 1, d3 + 1])\n"
   ]
  },
  {
   "cell_type": "code",
   "execution_count": 169,
   "metadata": {},
   "outputs": [],
   "source": [
    "def update_holdings(positions):\n",
    "    holdings = np.array([2, 2, 2])\n",
    "    for i, v in enumerate(positions.values()):\n",
    "            pos = 0\n",
    "            if v < 0:\n",
    "                pos = 1\n",
    "            elif v == 0:\n",
    "                pos = 2\n",
    "            else:\n",
    "                pos = 3\n",
    "            holdings[i] = pos\n",
    "    return holdings\n",
    "\n",
    "def calculate_final_reward(positions, stock_prices):\n",
    "    final_reward = (positions['AAPL'] * stock_prices['AAPL'].iloc[-1]) + (positions['IBM'] * stock_prices['IBM'].iloc[-1]) + (positions['KO'] * stock_prices['KO'].iloc[-1])\n",
    "    return final_reward\n",
    "\n",
    "def evaluate_continuation(cash, positions, stock_prices, time):\n",
    "    port_value = (positions['AAPL'] * stock_prices['AAPL'].iloc[time]) + (positions['IBM'] * stock_prices['IBM'].iloc[time]) + (positions['KO'] * stock_prices['KO'].iloc[time])\n",
    "    net_worth = cash + port_value\n",
    "    if net_worth < 0:\n",
    "        return False\n",
    "    else:\n",
    "        return True"
   ]
  },
  {
   "cell_type": "code",
   "execution_count": 170,
   "metadata": {},
   "outputs": [],
   "source": [
    "def labeled_actions_to_action_state(labeled_actions):\n",
    "    sorted_list = sorted(labeled_actions, key=lambda x: x[1])\n",
    "    legal_action_list = [v[0] for v in sorted_list]\n",
    "    legal_action = np.array(legal_action_list)\n",
    "    return legal_action"
   ]
  },
  {
   "cell_type": "code",
   "execution_count": 176,
   "metadata": {},
   "outputs": [],
   "source": [
    "n_episodes = 10000\n",
    "n_steps = 417\n",
    "alpha = 0.1\n",
    "epsilon = 0.1\n",
    "gamma = 1\n",
    "Q_table = np.zeros((64, 27, 27))\n",
    "tickers = ['AAPL', 'KO', 'IBM']\n",
    "\n",
    "\n",
    "for episode in range(n_episodes):\n",
    "    cash = 100\n",
    "    # Use a new stock price series for each episode\n",
    "    stock_prices = pd.DataFrame({'AAPL': raw_paths['AAPL'][episode], 'IBM': raw_paths['IBM'][episode], 'KO': raw_paths['KO'][episode]})\n",
    "    stock_returns = stock_prices.pct_change()\n",
    "\n",
    "    # Initialize holdings to zero and a random state for the prior return\n",
    "    raw_holdings = {'AAPL': 0, 'IBM': 0, 'KO': 0} \n",
    "    holdings = np.array([2, 2, 2])\n",
    "    returns = np.random.choice([1, 2, 3, 4], 3)\n",
    "    return_state = map_ret_state_to_real(returns)\n",
    "    holdings_state = map_pos_state_to_real(holdings)\n",
    "    \n",
    "    for t in range(n_steps - 1):\n",
    "        if not evaluate_continuation(cash, raw_holdings, stock_prices, t):\n",
    "            break\n",
    "        # Choose action using epsilon-greedy policy\n",
    "        if np.random.rand() < epsilon:\n",
    "            action = np.random.choice([1, 2, 3], 3)\n",
    "        else:\n",
    "            action = np.argmax(Q_table[return_state, holdings_state])\n",
    "            action = map_real_to_pos_state(action)\n",
    "        \n",
    "        next_return_state = discretize_rets(stock_returns.iloc[t + 1, :])\n",
    "        next_return_state = map_ret_state_to_real(next_return_state)\n",
    "\n",
    "        reward = 0\n",
    "\n",
    "        # Sort actions so that we evaluate sell orders first in order to fund potential buys\n",
    "        labeled_actions = []\n",
    "        for i in zip(action, tickers):\n",
    "            labeled_actions.append(list(i))\n",
    "        labeled_actions.sort(key=lambda x: x[0])\n",
    "        \n",
    "        for i in range(3):\n",
    "            if labeled_actions[i][0] == 3:  # Buy\n",
    "                if cash - stock_prices[labeled_actions[i][1]][t] > 0:  # Can only buy if have enough cash\n",
    "                    reward -= stock_prices[labeled_actions[i][1]][t]\n",
    "                    cash -= stock_prices[labeled_actions[i][1]][t]\n",
    "                    raw_holdings[labeled_actions[i][1]] += 1\n",
    "\n",
    "                else: # If not enough cash to buy, then hold\n",
    "                    labeled_actions[i][0] = 2\n",
    "\n",
    "            elif labeled_actions[i][0] == 2: # Hold\n",
    "                pass\n",
    "\n",
    "            elif labeled_actions[i][0] == 1:  # Sell\n",
    "                reward += stock_prices[labeled_actions[i][1]][t]\n",
    "                cash += stock_prices[labeled_actions[i][1]][t]\n",
    "                raw_holdings[labeled_actions[i][1]] -= 1\n",
    "        \n",
    "        action = labeled_actions_to_action_state(labeled_actions)\n",
    "        action_state = map_pos_state_to_real(action)\n",
    "        next_holdings = update_holdings(raw_holdings)\n",
    "        next_holdings_state = map_pos_state_to_real(next_holdings)\n",
    "        \n",
    "        # Q-learning update\n",
    "        Q_table[return_state, holdings_state, action_state] += alpha * (reward + gamma * np.max(Q_table[next_return_state, next_holdings_state]) - Q_table[return_state, holdings_state, action_state])\n",
    "\n",
    "        # Transition to next state\n",
    "        holdings = next_holdings\n",
    "        holdings_state = next_holdings_state\n",
    "        return_state = next_return_state\n",
    "\n",
    "    final_reward = calculate_final_reward(raw_holdings, stock_prices)\n",
    "    Q_table[return_state, holdings_state, action_state] += final_reward\n",
    "\n",
    "optimal_policy = np.argmax(Q_table, axis=2)\n"
   ]
  },
  {
   "cell_type": "code",
   "execution_count": 178,
   "metadata": {},
   "outputs": [
    {
     "data": {
      "image/png": "[encoded data removed]",
      "text/plain": [
       "<Figure size 1000x600 with 2 Axes>"
      ]
     },
     "metadata": {},
     "output_type": "display_data"
    }
   ],
   "source": [
    "# Visualization of the optimal policy\n",
    "plt.figure(figsize=(10, 6))\n",
    "plt.imshow(optimal_policy, cmap=\"viridis\", aspect=\"auto\")\n",
    "plt.colorbar(label=\"Optimal Action\")\n",
    "plt.xlabel(\"Holding State\")\n",
    "plt.ylabel(\"Return State\")\n",
    "plt.title(\"Optimal Trading Strategy (Q-Learning)\")\n",
    "plt.show()\n",
    "\n",
    "# Visualization of the Q-values\n",
    "# plt.figure(figsize=(10, 6))\n",
    "# for holding in range(27):\n",
    "#    for action in range(27):\n",
    "#        plt.plot(Q_table[:, holding, action], label=f\"Action {action} (Holding={holding})\")\n",
    "# plt.xlabel(\"Stock Price State\")\n",
    "# plt.ylabel(\"Q-Value\")\n",
    "# plt.title(\"Q-Values for Different Actions and Holding States\")\n",
    "# plt.legend()\n",
    "# plt.grid(True)\n",
    "# plt.show()\n"
   ]
  },
  {
   "cell_type": "code",
   "execution_count": 189,
   "metadata": {},
   "outputs": [
    {
     "data": {
      "text/plain": [
       "array([26,  0,  0,  8,  0,  0,  0,  0,  0, 24, 26,  0, 11,  0,  0,  0,  0,\n",
       "        0,  0,  0,  0,  0,  0,  0,  0,  0,  0], dtype=int64)"
      ]
     },
     "execution_count": 189,
     "metadata": {},
     "output_type": "execute_result"
    }
   ],
   "source": [
    "optimal_policy[10]"
   ]
  },
  {
   "cell_type": "code",
   "execution_count": 162,
   "metadata": {},
   "outputs": [
    {
     "data": {
      "text/plain": [
       "array([8493.63392056, 1193.80961916,  659.21236271,  506.0814051 ,\n",
       "        440.850284  ,  432.081199  , 1481.23036665,  726.84346326,\n",
       "        869.7679423 , 1392.97347472, 1769.17463035,  658.86699246,\n",
       "          0.        ,   66.71492987,  323.74815096,  135.94929296,\n",
       "          0.        ,  154.81029913, 1156.00138347,  767.49624501,\n",
       "        580.08118193,  303.96489366,  544.30216762,  445.55505032,\n",
       "        816.80844119,  743.31032786,  844.53045914])"
      ]
     },
     "execution_count": 162,
     "metadata": {},
     "output_type": "execute_result"
    }
   ],
   "source": [
    "Q_table[1, 0, :]"
   ]
  },
  {
   "cell_type": "code",
   "execution_count": 106,
   "metadata": {},
   "outputs": [
    {
     "data": {
      "text/plain": [
       "6.494844095586659"
      ]
     },
     "execution_count": 106,
     "metadata": {},
     "output_type": "execute_result"
    }
   ],
   "source": [
    "pd.DataFrame({'AAPL': raw_paths['AAPL'][0], 'KO': raw_paths['KO'][0], 'IBM': raw_paths['IBM'][0]})['AAPL'][0]"
   ]
  },
  {
   "cell_type": "code",
   "execution_count": 175,
   "metadata": {},
   "outputs": [
    {
     "data": {
      "text/plain": [
       "[[1, 'AAPL'], [0, 'KO'], [-1, 'IBM']]"
      ]
     },
     "execution_count": 175,
     "metadata": {},
     "output_type": "execute_result"
    }
   ],
   "source": [
    "test = []\n",
    "act = np.array([1, 0, -1])\n",
    "for i in zip(act, tickers):\n",
    "    test.append(list(i))\n",
    "test"
   ]
  },
  {
   "cell_type": "code",
   "execution_count": 173,
   "metadata": {},
   "outputs": [
    {
     "data": {
      "text/plain": [
       "[(-1, 'IBM'), (0, 'KO'), (1, 'AAPL')]"
      ]
     },
     "execution_count": 173,
     "metadata": {},
     "output_type": "execute_result"
    }
   ],
   "source": [
    "sorted(test, key=lambda x: x[0])"
   ]
  }
 ],
 "metadata": {
  "kernelspec": {
   "display_name": "mfe230e",
   "language": "python",
   "name": "python3"
  },
  "language_info": {
   "codemirror_mode": {
    "name": "ipython",
    "version": 3
   },
   "file_extension": ".py",
   "mimetype": "text/x-python",
   "name": "python",
   "nbconvert_exporter": "python",
   "pygments_lexer": "ipython3",
   "version": "3.11.8"
  }
 },
 "nbformat": 4,
 "nbformat_minor": 2
}
